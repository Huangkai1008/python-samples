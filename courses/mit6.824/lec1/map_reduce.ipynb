{
 "cells": [
  {
   "cell_type": "markdown",
   "id": "d660967f-96cd-43ab-9853-5b957f0d6854",
   "metadata": {},
   "source": [
    "# MapReduce 论文"
   ]
  },
  {
   "cell_type": "code",
   "execution_count": null,
   "id": "9268d4ba-c3fe-4744-9993-25168d8edd37",
   "metadata": {},
   "outputs": [],
   "source": []
  }
 ],
 "metadata": {
  "kernelspec": {
   "display_name": "Python 3 (ipykernel)",
   "language": "python",
   "name": "python3"
  },
  "language_info": {
   "codemirror_mode": {
    "name": "ipython",
    "version": 3
   },
   "file_extension": ".py",
   "mimetype": "text/x-python",
   "name": "python",
   "nbconvert_exporter": "python",
   "pygments_lexer": "ipython3",
   "version": "3.9.13"
  }
 },
 "nbformat": 4,
 "nbformat_minor": 5
}
