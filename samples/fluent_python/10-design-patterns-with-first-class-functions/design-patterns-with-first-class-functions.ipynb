{
 "cells": [
  {
   "cell_type": "markdown",
   "metadata": {},
   "source": [
    "# Chapter 10 — Design Patterns with First-Class Functions"
   ]
  },
  {
   "cell_type": "code",
   "execution_count": 5,
   "metadata": {},
   "outputs": [
    {
     "data": {
      "text/plain": [
       "<Order total: 42.00 due: 42.00>"
      ]
     },
     "execution_count": 5,
     "metadata": {},
     "output_type": "execute_result"
    }
   ],
   "source": [
    "from decimal import Decimal\n",
    "\n",
    "from classic.promotion import (\n",
    "    Customer,\n",
    "    LineItem,\n",
    "    Order,\n",
    "    Promotion,\n",
    "    BulkItemPromo,\n",
    "    FidelityPromo,\n",
    "    LargeOrderPromo,\n",
    ")\n",
    "\n",
    "joe = Customer('John Done', 0)\n",
    "ann = Customer('Ann Smith', 1100)\n",
    "cart = (\n",
    "    LineItem('banana', 4, Decimal('.5')),\n",
    "    LineItem('apple', 10, Decimal('1.5')),\n",
    "    LineItem('watermelon', 5, Decimal('5')),\n",
    ")\n",
    "\n",
    "Order(joe, cart, FidelityPromo())"
   ]
  },
  {
   "cell_type": "code",
   "execution_count": 6,
   "metadata": {},
   "outputs": [
    {
     "data": {
      "text/plain": [
       "<Order total: 42.00 due: 39.90>"
      ]
     },
     "execution_count": 6,
     "metadata": {},
     "output_type": "execute_result"
    }
   ],
   "source": [
    "Order(ann, cart, FidelityPromo())"
   ]
  },
  {
   "cell_type": "code",
   "execution_count": 7,
   "metadata": {},
   "outputs": [
    {
     "data": {
      "text/plain": [
       "<Order total: 30.00 due: 28.50>"
      ]
     },
     "execution_count": 7,
     "metadata": {},
     "output_type": "execute_result"
    }
   ],
   "source": [
    "banana_cart = (\n",
    "    LineItem('banana', 30, Decimal('.5')),\n",
    "    LineItem('apple', 10, Decimal('1.5')),\n",
    ")\n",
    "\n",
    "Order(joe, banana_cart, BulkItemPromo())"
   ]
  }
 ],
 "metadata": {
  "kernelspec": {
   "display_name": "Python 3 (ipykernel)",
   "language": "python",
   "name": "python3"
  },
  "language_info": {
   "codemirror_mode": {
    "name": "ipython",
    "version": 3
   },
   "file_extension": ".py",
   "mimetype": "text/x-python",
   "name": "python",
   "nbconvert_exporter": "python",
   "pygments_lexer": "ipython3",
   "version": "3.9.13"
  },
  "orig_nbformat": 4
 },
 "nbformat": 4,
 "nbformat_minor": 2
}
